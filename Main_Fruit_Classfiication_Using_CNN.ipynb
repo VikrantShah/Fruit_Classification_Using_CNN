{
 "cells": [
  {
   "cell_type": "markdown",
   "metadata": {},
   "source": [
    "# Importing the libraries"
   ]
  },
  {
   "cell_type": "code",
   "execution_count": 1,
   "metadata": {},
   "outputs": [
    {
     "name": "stderr",
     "output_type": "stream",
     "text": [
      "Using TensorFlow backend.\n"
     ]
    }
   ],
   "source": [
    "from keras.preprocessing.image import ImageDataGenerator\n",
    "from keras.models import Sequential\n",
    "from keras.layers import Convolution2D\n",
    "from keras.layers import Flatten\n",
    "from keras.layers import Dense\n",
    "from keras.layers import MaxPooling2D"
   ]
  },
  {
   "cell_type": "markdown",
   "metadata": {},
   "source": [
    "# Data Preprocessing"
   ]
  },
  {
   "cell_type": "code",
   "execution_count": 2,
   "metadata": {},
   "outputs": [],
   "source": [
    "train_dir = r\"Dataset/train\"\n",
    "test_dir = r\"Dataset/test\""
   ]
  },
  {
   "cell_type": "markdown",
   "metadata": {},
   "source": [
    "## Generating batches of tensor data"
   ]
  },
  {
   "cell_type": "code",
   "execution_count": 3,
   "metadata": {},
   "outputs": [],
   "source": [
    "train_datagen = ImageDataGenerator(rescale = 1./255,\n",
    "                                   shear_range = 0.2,\n",
    "                                   zoom_range = 0.2,\n",
    "                                   horizontal_flip = True)\n",
    "\n",
    "# rescale : Rescaling the image in the range of (0, 1)\n",
    "# shear_range : Ramdomly shear the images\n",
    "# zoom_range : Randomly zooming the images\n",
    "# horizontal_flip : Randomly Flipping half of the images horizontally\n",
    "\n",
    "test_datagen = ImageDataGenerator(rescale = 1./255)"
   ]
  },
  {
   "cell_type": "code",
   "execution_count": 4,
   "metadata": {},
   "outputs": [
    {
     "name": "stdout",
     "output_type": "stream",
     "text": [
      "Found 1212 images belonging to 6 classes.\n",
      "Found 300 images belonging to 6 classes.\n"
     ]
    }
   ],
   "source": [
    "training_set = train_datagen.flow_from_directory(train_dir,\n",
    "                                                target_size = (64, 64),\n",
    "                                                batch_size = 12,\n",
    "                                                class_mode = \"categorical\")\n",
    "\n",
    "test_set = test_datagen.flow_from_directory(test_dir,\n",
    "                                           target_size = (64, 64),\n",
    "                                           batch_size = 12,\n",
    "                                           class_mode = \"categorical\")"
   ]
  },
  {
   "cell_type": "markdown",
   "metadata": {},
   "source": [
    "# Making the Convolutional Neural Network"
   ]
  },
  {
   "cell_type": "markdown",
   "metadata": {},
   "source": [
    "## Initalizing the CNN"
   ]
  },
  {
   "cell_type": "code",
   "execution_count": 5,
   "metadata": {},
   "outputs": [],
   "source": [
    "classifier = Sequential()"
   ]
  },
  {
   "cell_type": "markdown",
   "metadata": {},
   "source": [
    "## Adding the first Convolutional layer and Pooling layer"
   ]
  },
  {
   "cell_type": "code",
   "execution_count": 6,
   "metadata": {},
   "outputs": [],
   "source": [
    "classifier.add(Convolution2D(filters = 32,\n",
    "                             kernel_size = (3, 3), \n",
    "                             input_shape = (64, 64, 3), \n",
    "                             activation = \"relu\"))\n",
    "\n",
    "classifier.add(MaxPooling2D(pool_size = (2, 2)))"
   ]
  },
  {
   "cell_type": "markdown",
   "metadata": {},
   "source": [
    "## Adding the second Convolutional layer and Pooling layer"
   ]
  },
  {
   "cell_type": "code",
   "execution_count": 7,
   "metadata": {},
   "outputs": [],
   "source": [
    "classifier.add(Convolution2D(filters = 32,\n",
    "                            kernel_size = (3, 3), \n",
    "                            activation = \"relu\"))\n",
    "\n",
    "classifier.add(MaxPooling2D(pool_size = (2, 2)))"
   ]
  },
  {
   "cell_type": "markdown",
   "metadata": {},
   "source": [
    "## Adding the Flattening layer"
   ]
  },
  {
   "cell_type": "code",
   "execution_count": 8,
   "metadata": {},
   "outputs": [],
   "source": [
    "classifier.add(Flatten())"
   ]
  },
  {
   "cell_type": "markdown",
   "metadata": {},
   "source": [
    "## Adding the Fully Connected layers"
   ]
  },
  {
   "cell_type": "code",
   "execution_count": 9,
   "metadata": {},
   "outputs": [],
   "source": [
    "classifier.add(Dense(units = 32, activation = \"relu\"))\n",
    "\n",
    "classifier.add(Dense(units = 64, activation = \"relu\"))\n",
    "\n",
    "classifier.add(Dense(units = 128, activation = \"relu\"))\n",
    "\n",
    "classifier.add(Dense(units = 256, activation = \"relu\"))\n",
    "\n",
    "classifier.add(Dense(units = 256, activation = \"relu\"))\n",
    "\n",
    "classifier.add(Dense(units = 6, activation = \"softmax\"))"
   ]
  },
  {
   "cell_type": "code",
   "execution_count": 10,
   "metadata": {},
   "outputs": [
    {
     "name": "stdout",
     "output_type": "stream",
     "text": [
      "Model: \"sequential_1\"\n",
      "_________________________________________________________________\n",
      "Layer (type)                 Output Shape              Param #   \n",
      "=================================================================\n",
      "conv2d_1 (Conv2D)            (None, 62, 62, 32)        896       \n",
      "_________________________________________________________________\n",
      "max_pooling2d_1 (MaxPooling2 (None, 31, 31, 32)        0         \n",
      "_________________________________________________________________\n",
      "conv2d_2 (Conv2D)            (None, 29, 29, 32)        9248      \n",
      "_________________________________________________________________\n",
      "max_pooling2d_2 (MaxPooling2 (None, 14, 14, 32)        0         \n",
      "_________________________________________________________________\n",
      "flatten_1 (Flatten)          (None, 6272)              0         \n",
      "_________________________________________________________________\n",
      "dense_1 (Dense)              (None, 32)                200736    \n",
      "_________________________________________________________________\n",
      "dense_2 (Dense)              (None, 64)                2112      \n",
      "_________________________________________________________________\n",
      "dense_3 (Dense)              (None, 128)               8320      \n",
      "_________________________________________________________________\n",
      "dense_4 (Dense)              (None, 256)               33024     \n",
      "_________________________________________________________________\n",
      "dense_5 (Dense)              (None, 256)               65792     \n",
      "_________________________________________________________________\n",
      "dense_6 (Dense)              (None, 6)                 1542      \n",
      "=================================================================\n",
      "Total params: 321,670\n",
      "Trainable params: 321,670\n",
      "Non-trainable params: 0\n",
      "_________________________________________________________________\n"
     ]
    }
   ],
   "source": [
    "classifier.summary()"
   ]
  },
  {
   "cell_type": "markdown",
   "metadata": {},
   "source": [
    "## Compiling the CNN"
   ]
  },
  {
   "cell_type": "code",
   "execution_count": 11,
   "metadata": {},
   "outputs": [],
   "source": [
    "classifier.compile(optimizer = \"adam\", loss = \"categorical_crossentropy\", metrics = [\"accuracy\"])"
   ]
  },
  {
   "cell_type": "markdown",
   "metadata": {},
   "source": [
    "# Fitting the CNN to images"
   ]
  },
  {
   "cell_type": "code",
   "execution_count": 13,
   "metadata": {},
   "outputs": [
    {
     "name": "stderr",
     "output_type": "stream",
     "text": [
      "C:\\Users\\RAJ SHAH\\anaconda3\\lib\\site-packages\\ipykernel_launcher.py:5: UserWarning: The semantics of the Keras 2 argument `steps_per_epoch` is not the same as the Keras 1 argument `samples_per_epoch`. `steps_per_epoch` is the number of batches to draw from the generator at each epoch. Basically steps_per_epoch = samples_per_epoch/batch_size. Similarly `nb_val_samples`->`validation_steps` and `val_samples`->`steps` arguments have changed. Update your method calls accordingly.\n",
      "  \"\"\"\n",
      "C:\\Users\\RAJ SHAH\\anaconda3\\lib\\site-packages\\ipykernel_launcher.py:5: UserWarning: Update your `fit_generator` call to the Keras 2 API: `fit_generator(<keras.pre..., validation_data=<keras.pre..., steps_per_epoch=101, epochs=30, validation_steps=300)`\n",
      "  \"\"\"\n"
     ]
    },
    {
     "name": "stdout",
     "output_type": "stream",
     "text": [
      "Epoch 1/30\n",
      "101/101 [==============================] - 31s 302ms/step - loss: 1.5834 - accuracy: 0.3177 - val_loss: 1.0251 - val_accuracy: 0.5400\n",
      "Epoch 2/30\n",
      "101/101 [==============================] - 28s 281ms/step - loss: 1.1307 - accuracy: 0.5281 - val_loss: 1.1127 - val_accuracy: 0.6533\n",
      "Epoch 3/30\n",
      "101/101 [==============================] - 32s 313ms/step - loss: 0.9748 - accuracy: 0.5990 - val_loss: 0.6336 - val_accuracy: 0.6833\n",
      "Epoch 4/30\n",
      "101/101 [==============================] - 30s 299ms/step - loss: 0.8559 - accuracy: 0.6675 - val_loss: 0.8054 - val_accuracy: 0.7433\n",
      "Epoch 5/30\n",
      "101/101 [==============================] - 36s 352ms/step - loss: 0.7927 - accuracy: 0.6906 - val_loss: 0.9307 - val_accuracy: 0.6567\n",
      "Epoch 6/30\n",
      "101/101 [==============================] - 38s 375ms/step - loss: 0.7604 - accuracy: 0.6922 - val_loss: 0.5695 - val_accuracy: 0.7133\n",
      "Epoch 7/30\n",
      "101/101 [==============================] - 36s 361ms/step - loss: 0.6258 - accuracy: 0.7607 - val_loss: 1.1206 - val_accuracy: 0.7400\n",
      "Epoch 8/30\n",
      "101/101 [==============================] - 29s 283ms/step - loss: 0.6208 - accuracy: 0.7764 - val_loss: 0.1775 - val_accuracy: 0.8500\n",
      "Epoch 9/30\n",
      "101/101 [==============================] - 29s 288ms/step - loss: 0.5964 - accuracy: 0.7805 - val_loss: 0.7857 - val_accuracy: 0.7933\n",
      "Epoch 10/30\n",
      "101/101 [==============================] - 29s 285ms/step - loss: 0.5840 - accuracy: 0.7838 - val_loss: 0.2893 - val_accuracy: 0.8200\n",
      "Epoch 11/30\n",
      "101/101 [==============================] - 30s 300ms/step - loss: 0.4747 - accuracy: 0.8333 - val_loss: 0.4645 - val_accuracy: 0.7933\n",
      "Epoch 12/30\n",
      "101/101 [==============================] - 30s 299ms/step - loss: 0.5204 - accuracy: 0.8185 - val_loss: 0.2147 - val_accuracy: 0.8633\n",
      "Epoch 13/30\n",
      "101/101 [==============================] - 31s 307ms/step - loss: 0.4914 - accuracy: 0.8276 - val_loss: 0.2921 - val_accuracy: 0.8067\n",
      "Epoch 14/30\n",
      "101/101 [==============================] - 32s 313ms/step - loss: 0.4365 - accuracy: 0.8482 - val_loss: 0.5227 - val_accuracy: 0.8033\n",
      "Epoch 15/30\n",
      "101/101 [==============================] - 30s 297ms/step - loss: 0.4186 - accuracy: 0.8556 - val_loss: 0.4195 - val_accuracy: 0.8300\n",
      "Epoch 16/30\n",
      "101/101 [==============================] - 29s 285ms/step - loss: 0.4454 - accuracy: 0.8482 - val_loss: 0.9169 - val_accuracy: 0.7467\n",
      "Epoch 17/30\n",
      "101/101 [==============================] - 31s 306ms/step - loss: 0.3881 - accuracy: 0.8705 - val_loss: 0.5266 - val_accuracy: 0.8467\n",
      "Epoch 18/30\n",
      "101/101 [==============================] - 30s 298ms/step - loss: 0.3517 - accuracy: 0.8738 - val_loss: 0.2685 - val_accuracy: 0.8500\n",
      "Epoch 19/30\n",
      "101/101 [==============================] - 28s 279ms/step - loss: 0.3823 - accuracy: 0.8498 - val_loss: 0.8905 - val_accuracy: 0.7667\n",
      "Epoch 20/30\n",
      "101/101 [==============================] - 30s 293ms/step - loss: 0.3651 - accuracy: 0.8746 - val_loss: 0.1993 - val_accuracy: 0.8667\n",
      "Epoch 21/30\n",
      "101/101 [==============================] - 29s 290ms/step - loss: 0.2949 - accuracy: 0.8936 - val_loss: 0.4050 - val_accuracy: 0.8767\n",
      "Epoch 22/30\n",
      "101/101 [==============================] - 28s 278ms/step - loss: 0.2730 - accuracy: 0.9051 - val_loss: 0.5002 - val_accuracy: 0.8833\n",
      "Epoch 23/30\n",
      "101/101 [==============================] - 29s 286ms/step - loss: 0.2911 - accuracy: 0.9002 - val_loss: 0.2784 - val_accuracy: 0.8567\n",
      "Epoch 24/30\n",
      "101/101 [==============================] - 30s 302ms/step - loss: 0.2703 - accuracy: 0.9051 - val_loss: 0.0338 - val_accuracy: 0.8633\n",
      "Epoch 25/30\n",
      "101/101 [==============================] - 31s 307ms/step - loss: 0.2557 - accuracy: 0.9051 - val_loss: 0.3142 - val_accuracy: 0.9000\n",
      "Epoch 26/30\n",
      "101/101 [==============================] - 31s 304ms/step - loss: 0.2830 - accuracy: 0.9018 - val_loss: 0.2489 - val_accuracy: 0.8667\n",
      "Epoch 27/30\n",
      "101/101 [==============================] - 30s 297ms/step - loss: 0.2441 - accuracy: 0.9158 - val_loss: 0.0926 - val_accuracy: 0.8567\n",
      "Epoch 28/30\n",
      "101/101 [==============================] - 29s 289ms/step - loss: 0.2600 - accuracy: 0.9092 - val_loss: 0.7569 - val_accuracy: 0.8233\n",
      "Epoch 29/30\n",
      "101/101 [==============================] - 31s 306ms/step - loss: 0.2406 - accuracy: 0.9150 - val_loss: 0.4418 - val_accuracy: 0.8333\n",
      "Epoch 30/30\n",
      "101/101 [==============================] - 29s 284ms/step - loss: 0.2532 - accuracy: 0.9051 - val_loss: 0.0884 - val_accuracy: 0.8833\n"
     ]
    },
    {
     "data": {
      "text/plain": [
       "<keras.callbacks.callbacks.History at 0x12ca96138c8>"
      ]
     },
     "execution_count": 13,
     "metadata": {},
     "output_type": "execute_result"
    }
   ],
   "source": [
    "classifier.fit_generator(training_set,\n",
    "                        samples_per_epoch = 1212,\n",
    "                        nb_epoch = 30,\n",
    "                        validation_data = test_set,\n",
    "                        nb_val_samples = 300)\n",
    "\n",
    "# sample_per_epoch : Total training images\n",
    "# nb_epoch : Total number of epochs\n",
    "# nb_val_samples : Total testing images"
   ]
  },
  {
   "cell_type": "markdown",
   "metadata": {},
   "source": [
    "# Saving the model"
   ]
  },
  {
   "cell_type": "code",
   "execution_count": 14,
   "metadata": {},
   "outputs": [],
   "source": [
    "classifier.save(\"model.h5\")"
   ]
  },
  {
   "cell_type": "code",
   "execution_count": null,
   "metadata": {},
   "outputs": [],
   "source": []
  }
 ],
 "metadata": {
  "kernelspec": {
   "display_name": "Python 3",
   "language": "python",
   "name": "python3"
  },
  "language_info": {
   "codemirror_mode": {
    "name": "ipython",
    "version": 3
   },
   "file_extension": ".py",
   "mimetype": "text/x-python",
   "name": "python",
   "nbconvert_exporter": "python",
   "pygments_lexer": "ipython3",
   "version": "3.7.6"
  }
 },
 "nbformat": 4,
 "nbformat_minor": 4
}
